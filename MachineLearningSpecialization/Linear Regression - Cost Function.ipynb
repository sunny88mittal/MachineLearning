{
 "cells": [
  {
   "cell_type": "markdown",
   "id": "a376e2e2",
   "metadata": {},
   "source": [
    "In this exercise we will implment the cost funciton for the linear regression with one variable"
   ]
  },
  {
   "cell_type": "code",
   "execution_count": 6,
   "id": "7ab4cc45",
   "metadata": {},
   "outputs": [],
   "source": [
    "import numpy as np"
   ]
  },
  {
   "cell_type": "code",
   "execution_count": 7,
   "id": "16ab70aa",
   "metadata": {},
   "outputs": [],
   "source": [
    "def cost_func(x,y,w,b) :\n",
    "    m = x.shape[0]\n",
    "    cost = 0\n",
    "    for i in range (m) :\n",
    "        f_temp = w * x[i] + b\n",
    "        cost = cost + (f_temp - y[i]) ** 2\n",
    "    return cost/(2*m)"
   ]
  },
  {
   "cell_type": "code",
   "execution_count": 8,
   "id": "d609ef68",
   "metadata": {},
   "outputs": [
    {
     "name": "stdout",
     "output_type": "stream",
     "text": [
      "Cost is [    0.  9800. 20000. 45000. 80000. 96800.]\n"
     ]
    }
   ],
   "source": [
    "x_train = np.array([1.0, 1.7, 2.0, 2.5, 3.0, 3.2])\n",
    "y_train = np.array([250, 300, 480,  430,   630, 730,])\n",
    "\n",
    "w = 200\n",
    "b = 100\n",
    "\n",
    "cost = cost_func(x_train, y_train, w,b)\n",
    "print(f\"Cost is {cost}\")"
   ]
  }
 ],
 "metadata": {
  "kernelspec": {
   "display_name": "Python 3 (ipykernel)",
   "language": "python",
   "name": "python3"
  },
  "language_info": {
   "codemirror_mode": {
    "name": "ipython",
    "version": 3
   },
   "file_extension": ".py",
   "mimetype": "text/x-python",
   "name": "python",
   "nbconvert_exporter": "python",
   "pygments_lexer": "ipython3",
   "version": "3.9.13"
  }
 },
 "nbformat": 4,
 "nbformat_minor": 5
}
