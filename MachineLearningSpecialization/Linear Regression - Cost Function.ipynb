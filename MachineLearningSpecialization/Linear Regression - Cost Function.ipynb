{
 "cells": [
  {
   "cell_type": "markdown",
   "id": "dca9e8e8",
   "metadata": {},
   "source": [
    "In this exercise we will implment the cost funciton for the linear regression with one variable"
   ]
  },
  {
   "cell_type": "code",
   "execution_count": 9,
   "id": "dac395dd",
   "metadata": {},
   "outputs": [],
   "source": [
    "import numpy as np"
   ]
  },
  {
   "cell_type": "code",
   "execution_count": 10,
   "id": "31a4e020",
   "metadata": {},
   "outputs": [],
   "source": [
    "def cost_func(x,y,w,b) :\n",
    "    m = x.shape[0]\n",
    "    cost = 0\n",
    "    for i in range (m) :\n",
    "        f_temp = w * x[i] + b\n",
    "        cost = cost + (f_temp - y[i]) ** 2\n",
    "    return cost/(2*m)"
   ]
  },
  {
   "cell_type": "code",
   "execution_count": 11,
   "id": "b6d8d718",
   "metadata": {},
   "outputs": [
    {
     "name": "stdout",
     "output_type": "stream",
     "text": [
      "Cost is 4700.0\n"
     ]
    }
   ],
   "source": [
    "x_train = np.array([1.0, 1.7, 2.0, 2.5, 3.0, 3.2])\n",
    "y_train = np.array([250, 300, 480,  430,   630, 730,])\n",
    "\n",
    "w = 200\n",
    "b = 100\n",
    "\n",
    "cost = cost_func(x_train, y_train, w,b)\n",
    "print(f\"Cost is {cost}\")"
   ]
  }
 ],
 "metadata": {
  "kernelspec": {
   "display_name": "Python 3 (ipykernel)",
   "language": "python",
   "name": "python3"
  },
  "language_info": {
   "codemirror_mode": {
    "name": "ipython",
    "version": 3
   },
   "file_extension": ".py",
   "mimetype": "text/x-python",
   "name": "python",
   "nbconvert_exporter": "python",
   "pygments_lexer": "ipython3",
   "version": "3.9.13"
  }
 },
 "nbformat": 4,
 "nbformat_minor": 5
}
